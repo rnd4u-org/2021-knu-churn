{
 "cells": [
  {
   "cell_type": "code",
   "execution_count": 216,
   "id": "bridal-buffalo",
   "metadata": {},
   "outputs": [
    {
     "name": "stdout",
     "output_type": "stream",
     "text": [
      "       Unnamed: 0  CLIENTNUM  Attrition_Flag  Customer_Age  Gender  \\\n",
      "0               0  768805383               0      0.404255       1   \n",
      "1               2  713982108               0      0.531915       1   \n",
      "2               3  769911858               0      0.297872       0   \n",
      "3               4  709106358               0      0.297872       1   \n",
      "4               5  713061558               0      0.382979       1   \n",
      "...           ...        ...             ...           ...     ...   \n",
      "10114       10122  772366833               0      0.510638       1   \n",
      "10115       10123  710638233               1      0.319149       1   \n",
      "10116       10124  716506083               1      0.382979       0   \n",
      "10117       10125  717406983               1      0.085106       1   \n",
      "10118       10126  714337233               1      0.361702       0   \n",
      "\n",
      "       Dependent_count  Education_Level  Marital_Status  Income_Category  \\\n",
      "0                    3                1               0                2   \n",
      "1                    3                3               0                3   \n",
      "2                    4                1               0                0   \n",
      "3                    3                0               0                2   \n",
      "4                    2                3               0                1   \n",
      "...                ...              ...             ...              ...   \n",
      "10114                2                3               1                1   \n",
      "10115                2                2               3                1   \n",
      "10116                1                1               0                0   \n",
      "10117                2                3               1                1   \n",
      "10118                2                3               0                0   \n",
      "\n",
      "       Card_Category  ...  Months_Inactive_12_mon  Contacts_Count_12_mon  \\\n",
      "0                  0  ...                       1                      3   \n",
      "1                  0  ...                       1                      0   \n",
      "2                  0  ...                       4                      1   \n",
      "3                  0  ...                       1                      0   \n",
      "4                  0  ...                       1                      2   \n",
      "...              ...  ...                     ...                    ...   \n",
      "10114              0  ...                       2                      3   \n",
      "10115              0  ...                       2                      3   \n",
      "10116              0  ...                       3                      4   \n",
      "10117              0  ...                       3                      3   \n",
      "10118              1  ...                       2                      4   \n",
      "\n",
      "       Credit_Limit  Total_Revolving_Bal  Avg_Open_To_Buy  \\\n",
      "0          0.340190             0.308701         0.345116   \n",
      "1          0.059850             0.000000         0.098948   \n",
      "2          0.056676             1.000000         0.022977   \n",
      "3          0.099091             0.000000         0.136557   \n",
      "4          0.077747             0.495431         0.079970   \n",
      "...             ...                  ...              ...   \n",
      "10114      0.077536             0.735399         0.062266   \n",
      "10115      0.085819             0.868494         0.060499   \n",
      "10116      0.120042             0.000000         0.156637   \n",
      "10117      0.116172             0.000000         0.152928   \n",
      "10118      0.270566             0.779102         0.244082   \n",
      "\n",
      "       Total_Amt_Chng_Q4_Q1  Total_Trans_Amt  Total_Trans_Ct  \\\n",
      "0                  0.392994         0.035273        0.248062   \n",
      "1                  0.763615         0.076611        0.077519   \n",
      "2                  0.413600         0.036775        0.077519   \n",
      "3                  0.640271         0.017025        0.139535   \n",
      "4                  0.405063         0.032158        0.108527   \n",
      "...                     ...              ...             ...   \n",
      "10114              0.206947         0.832647        0.829457   \n",
      "10115              0.236679         0.459219        0.457364   \n",
      "10116              0.241095         0.544175        0.387597   \n",
      "10117              0.157492         0.438689        0.403101   \n",
      "10118              0.206947         0.544342        0.395349   \n",
      "\n",
      "       Total_Ct_Chng_Q4_Q1  Avg_Utilization_Ratio  \n",
      "0                 0.437534               0.061061  \n",
      "1                 0.628164               0.000000  \n",
      "2                 0.628164               0.760761  \n",
      "3                 0.673129               0.000000  \n",
      "4                 0.227787               0.311311  \n",
      "...                    ...                    ...  \n",
      "10114             0.230749               0.462462  \n",
      "10115             0.183899               0.511512  \n",
      "10116             0.220248               0.000000  \n",
      "10117             0.194400               0.000000  \n",
      "10118             0.174744               0.189189  \n",
      "\n",
      "[10119 rows x 22 columns]\n"
     ]
    }
   ],
   "source": [
    "import pandas\n",
    "import sklearn.neighbors\n",
    "from sklearn.model_selection import train_test_split\n",
    "from sklearn.metrics import accuracy_score\n",
    "from sklearn.metrics import classification_report\n",
    "from sklearn.naive_bayes import CategoricalNB\n",
    "import numpy as np\n",
    "from sklearn.tree import DecisionTreeClassifier\n",
    "from sklearn.ensemble import RandomForestClassifier\n",
    "from sklearn.svm import SVC\n",
    "from sklearn.model_selection import GridSearchCV\n",
    "from sklearn.model_selection import RandomizedSearchCV\n",
    "from sklearn.feature_selection import SelectKBest\n",
    "from sklearn.feature_selection import GenericUnivariateSelect\n",
    "from sklearn.feature_selection import chi2\n",
    "\n",
    "dat=pandas.read_csv(\"Preprocessed.csv\",  delimiter=\",\")\n",
    "\n",
    "#Удаление лишних колонок\n",
    "dat=dat.drop(columns=['Naive_Bayes_Classifier_Attrition_Flag_Card_Category_Contacts_Count_12_mon_Dependent_count_Education_Level_Months_Inactive_12_mon_1', 'Naive_Bayes_Classifier_Attrition_Flag_Card_Category_Contacts_Count_12_mon_Dependent_count_Education_Level_Months_Inactive_12_mon_2'])\n",
    "\n",
    "print(dat)"
   ]
  },
  {
   "cell_type": "code",
   "execution_count": 243,
   "id": "aggregate-outside",
   "metadata": {},
   "outputs": [
    {
     "name": "stdout",
     "output_type": "stream",
     "text": [
      "[[0.00000000e+00 7.68805383e+08 1.00000000e+00 ... 2.48062016e-01\n",
      "  4.37533656e-01 6.10610611e-02]\n",
      " [2.00000000e+00 7.13982108e+08 1.00000000e+00 ... 7.75193798e-02\n",
      "  6.28163705e-01 0.00000000e+00]\n",
      " [3.00000000e+00 7.69911858e+08 0.00000000e+00 ... 7.75193798e-02\n",
      "  6.28163705e-01 7.60760761e-01]\n",
      " ...\n",
      " [1.01240000e+04 7.16506083e+08 0.00000000e+00 ... 3.87596899e-01\n",
      "  2.20247711e-01 0.00000000e+00]\n",
      " [1.01250000e+04 7.17406983e+08 1.00000000e+00 ... 4.03100775e-01\n",
      "  1.94399569e-01 0.00000000e+00]\n",
      " [1.01260000e+04 7.14337233e+08 0.00000000e+00 ... 3.95348837e-01\n",
      "  1.74744211e-01 1.89189189e-01]]\n"
     ]
    }
   ],
   "source": [
    "transformer = GenericUnivariateSelect(mode= \"k_best\",param=12,score_func=chi2)\n",
    "sel_data = transformer.fit_transform(dat.drop(columns=[\"Attrition_Flag\"]),dat[\"Attrition_Flag\"])\n",
    "#selector=sklearn.feature_selection.SelectKBest(score_func=chi2,k=12)\n",
    "#sel_data=selector.fit_transform(dat.drop(columns=[\"Attrition_Flag\"]),dat[\"Attrition_Flag\"])\n",
    "\n",
    "print(sel_data)\n",
    "x_train, x_test, y_train, y_test= train_test_split(sel_data,dat[\"Attrition_Flag\"])"
   ]
  },
  {
   "cell_type": "code",
   "execution_count": 250,
   "id": "active-reset",
   "metadata": {},
   "outputs": [
    {
     "name": "stdout",
     "output_type": "stream",
     "text": [
      "KNN, k=5: uniform , distance\n",
      "              precision    recall  f1-score   support\n",
      "\n",
      "           0     0.8470    0.9584    0.8993      2138\n",
      "           1     0.1982    0.0561    0.0875       392\n",
      "\n",
      "    accuracy                         0.8186      2530\n",
      "   macro avg     0.5226    0.5072    0.4934      2530\n",
      "weighted avg     0.7465    0.8186    0.7735      2530\n",
      "\n",
      "              precision    recall  f1-score   support\n",
      "\n",
      "           0     0.8472    0.9364    0.8896      2138\n",
      "           1     0.1856    0.0791    0.1109       392\n",
      "\n",
      "    accuracy                         0.8036      2530\n",
      "   macro avg     0.5164    0.5077    0.5002      2530\n",
      "weighted avg     0.7447    0.8036    0.7689      2530\n",
      "\n"
     ]
    }
   ],
   "source": [
    "print(\"KNN, k=5: uniform , distance\")\n",
    "\n",
    "knnu=sklearn.neighbors.KNeighborsClassifier(n_neighbors=5,weights='uniform')\n",
    "knnd=sklearn.neighbors.KNeighborsClassifier(n_neighbors=5,weights='distance')\n",
    "knnu.fit(x_train, y_train)\n",
    "knnd.fit(x_train, y_train)\n",
    "dddu=knnu.predict(x_test)\n",
    "dddd=knnd.predict(x_test)\n",
    "print(classification_report(y_test, dddu,digits=4))\n",
    "print(classification_report(y_test, dddd,digits=4))"
   ]
  },
  {
   "cell_type": "code",
   "execution_count": 249,
   "id": "sensitive-variance",
   "metadata": {},
   "outputs": [
    {
     "name": "stdout",
     "output_type": "stream",
     "text": [
      "DecisionTree: \n",
      "              precision    recall  f1-score   support\n",
      "\n",
      "           0     0.9828    0.9883    0.9855      2138\n",
      "           1     0.9342    0.9056    0.9197       392\n",
      "\n",
      "    accuracy                         0.9755      2530\n",
      "   macro avg     0.9585    0.9470    0.9526      2530\n",
      "weighted avg     0.9753    0.9755    0.9753      2530\n",
      "\n"
     ]
    }
   ],
   "source": [
    "print(\"DecisionTree: \")\n",
    "\n",
    "dt=sklearn.tree.DecisionTreeClassifier()\n",
    "dt.fit(x_train, y_train)\n",
    "ddd=dt.predict(x_test)\n",
    "print(classification_report(y_test, ddd,digits=4))"
   ]
  },
  {
   "cell_type": "code",
   "execution_count": 244,
   "id": "exotic-lucas",
   "metadata": {
    "scrolled": true
   },
   "outputs": [
    {
     "name": "stdout",
     "output_type": "stream",
     "text": [
      "RandomForest: \n",
      "              precision    recall  f1-score   support\n",
      "\n",
      "           0     0.9930    0.9949    0.9939      2138\n",
      "           1     0.9716    0.9617    0.9667       392\n",
      "\n",
      "    accuracy                         0.9897      2530\n",
      "   macro avg     0.9823    0.9783    0.9803      2530\n",
      "weighted avg     0.9897    0.9897    0.9897      2530\n",
      "\n"
     ]
    }
   ],
   "source": [
    "print(\"RandomForest: \")\n",
    "\n",
    "rf=sklearn.ensemble.RandomForestClassifier()\n",
    "rf.fit(x_train, y_train)\n",
    "ddd=rf.predict(x_test)\n",
    "print(classification_report(y_test, ddd,digits=4))"
   ]
  },
  {
   "cell_type": "code",
   "execution_count": 245,
   "id": "metallic-montana",
   "metadata": {},
   "outputs": [
    {
     "name": "stdout",
     "output_type": "stream",
     "text": [
      "SVC: accuracy\n",
      "              precision    recall  f1-score   support\n",
      "\n",
      "           0     0.8451    1.0000    0.9160      2138\n",
      "           1     0.0000    0.0000    0.0000       392\n",
      "\n",
      "    accuracy                         0.8451      2530\n",
      "   macro avg     0.4225    0.5000    0.4580      2530\n",
      "weighted avg     0.7141    0.8451    0.7741      2530\n",
      "\n"
     ]
    }
   ],
   "source": [
    "print(\"SVC: accuracy\")\n",
    "\n",
    "svmc=sklearn.svm.SVC()\n",
    "svmc.fit(x_train, y_train)\n",
    "ddd=svmc.predict(x_test)\n",
    "print(classification_report(y_test, ddd,digits=4,zero_division=0))"
   ]
  },
  {
   "cell_type": "markdown",
   "id": "nuclear-sentence",
   "metadata": {},
   "source": [
    "Decision Tree and Random Forest are much better, so they will be used"
   ]
  },
  {
   "cell_type": "markdown",
   "id": "banned-rental",
   "metadata": {},
   "source": [
    "Tuning parameters"
   ]
  },
  {
   "cell_type": "code",
   "execution_count": 252,
   "id": "automotive-ballet",
   "metadata": {},
   "outputs": [
    {
     "name": "stdout",
     "output_type": "stream",
     "text": [
      "DecisionTreeClassifier(criterion='entropy', min_samples_split=3)\n",
      "0.9762807635554189\n"
     ]
    }
   ],
   "source": [
    "#Для Decision Tree сделал Grid, а не Randomized для большей точности\n",
    "par_dt={\"criterion\":[\"gini\", \"entropy\"],\"min_samples_split\": [1.0]+list(range(2,5)),\"max_features\":[None,\"auto\", \"sqrt\", \"log2\"]}\n",
    "\n",
    "gr_scv_dt=GridSearchCV(estimator=dt,param_grid=par_dt)\n",
    "gr_scv_dt.fit(x_train,y_train)\n",
    "print(gr_scv_dt.best_estimator_)\n",
    "print(gr_scv_dt.best_score_)"
   ]
  },
  {
   "cell_type": "code",
   "execution_count": 254,
   "id": "derived-zimbabwe",
   "metadata": {},
   "outputs": [
    {
     "name": "stdout",
     "output_type": "stream",
     "text": [
      "RandomForestClassifier(criterion='entropy', max_features='sqrt',\n",
      "                       min_samples_split=3, n_estimators=1000)\n",
      "0.9844509698168235\n"
     ]
    }
   ],
   "source": [
    "#Для Random Forest Grid работало бы невероятно долго, поэтому Randomized\n",
    "par_rf={\"criterion\":[\"gini\", \"entropy\"],\"n_estimators\":[100,200,600,1000],\"min_samples_split\": [1.0,2,3,5],\"max_features\":[None,\"auto\", \"sqrt\", \"log2\"]}\n",
    "\n",
    "rd_scv_rf=RandomizedSearchCV(estimator=rf,param_distributions=par_rf,n_iter=5)\n",
    "rd_scv_rf.fit(x_train,y_train) \n",
    "print(rd_scv_rf.best_estimator_)\n",
    "print(rd_scv_rf.best_score_)"
   ]
  },
  {
   "cell_type": "code",
   "execution_count": 255,
   "id": "circular-december",
   "metadata": {},
   "outputs": [
    {
     "name": "stdout",
     "output_type": "stream",
     "text": [
      "              precision    recall  f1-score   support\n",
      "\n",
      "           0     0.9935    0.9963    0.9949      2138\n",
      "           1     0.9793    0.9643    0.9717       392\n",
      "\n",
      "    accuracy                         0.9913      2530\n",
      "   macro avg     0.9864    0.9803    0.9833      2530\n",
      "weighted avg     0.9913    0.9913    0.9913      2530\n",
      "\n"
     ]
    }
   ],
   "source": [
    "#Тест итоговой выбранной модели\n",
    "\n",
    "model=sklearn.ensemble.RandomForestClassifier(criterion='entropy', max_features='sqrt',\n",
    "                       min_samples_split=3, n_estimators=1000)\n",
    "model.fit(x_train, y_train)\n",
    "ddd=model.predict(x_test)\n",
    "print(classification_report(y_test, ddd,digits=4))"
   ]
  },
  {
   "cell_type": "code",
   "execution_count": null,
   "id": "czech-colony",
   "metadata": {},
   "outputs": [],
   "source": []
  }
 ],
 "metadata": {
  "kernelspec": {
   "display_name": "Python 3",
   "language": "python",
   "name": "python3"
  },
  "language_info": {
   "codemirror_mode": {
    "name": "ipython",
    "version": 3
   },
   "file_extension": ".py",
   "mimetype": "text/x-python",
   "name": "python",
   "nbconvert_exporter": "python",
   "pygments_lexer": "ipython3",
   "version": "3.9.1"
  }
 },
 "nbformat": 4,
 "nbformat_minor": 5
}
