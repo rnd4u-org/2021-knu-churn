{
 "cells": [
  {
   "cell_type": "code",
   "execution_count": 1,
   "id": "junior-montreal",
   "metadata": {},
   "outputs": [],
   "source": [
    "import pandas as pd\n",
    "import numpy as np\n",
    "import time as t\n",
    "from sklearn.feature_selection import SelectKBest, chi2\n",
    "from sklearn.model_selection import train_test_split\n",
    "from sklearn.ensemble import RandomForestClassifier\n",
    "from sklearn.metrics import accuracy_score \n",
    "from sklearn.metrics import f1_score\n",
    "from sklearn.metrics import recall_score\n",
    "from sklearn.metrics import precision_score"
   ]
  },
  {
   "cell_type": "code",
   "execution_count": 2,
   "id": "liquid-supplier",
   "metadata": {},
   "outputs": [],
   "source": [
    "def results(X_train, X_test, Y_train, Y_test):\n",
    "    time1 = t.time()\n",
    "    pred = Random_Forest(X_train, X_test, Y_train)\n",
    "    time2 = t.time()\n",
    "    runtime = time2-time1\n",
    "    res = [runtime, accuracy_score(Y_test, pred), f1_score(Y_test, pred), \n",
    "           recall_score(Y_test,pred), precision_score(Y_test,pred), ]\n",
    "    return res\n",
    "\n",
    "def Random_Forest(X_train, X_test, Y_train):\n",
    "    classifier =  RandomForestClassifier()\n",
    "    classifier = classifier.fit(X_train, Y_train)\n",
    "    predicted = classifier.predict(X_test)\n",
    "    return predicted    \n",
    "\n",
    "def feat_sel(X, Y):\n",
    "    feats_sel = SelectKBest(chi2)\n",
    "    fit = feats_sel.fit(X, Y)\n",
    "    scores = pd.DataFrame(fit.scores_)\n",
    "    columns = pd.DataFrame(data_old.columns[2:21])\n",
    "    feats = pd.concat([columns, scores], axis=1)\n",
    "    feats.columns = ('Features', 'Score')\n",
    "    useful_feats = []\n",
    "    for feat in feats.values:\n",
    "        if feat[1] > 10:\n",
    "            useful_feats.append(feat[0])\n",
    "    return useful_feats"
   ]
  },
  {
   "cell_type": "code",
   "execution_count": 3,
   "id": "steady-french",
   "metadata": {},
   "outputs": [],
   "source": [
    "data_new = pd.read_csv(\"BankChurnersNormalized.csv\")\n",
    "data_old = pd.read_csv(\"BankChurners.csv\")\n",
    "cols = [\"Runtime\", \"Accuracy Score\", \"f1 score\", \"Recall score\", \"Rrecision score\"]"
   ]
  },
  {
   "cell_type": "code",
   "execution_count": 4,
   "id": "victorian-rebound",
   "metadata": {},
   "outputs": [],
   "source": [
    "#Before model upgrade\n",
    "X_b = data_new[data_new.columns[1:20]]\n",
    "Y = data_new[data_new.columns[0]]\n",
    "X_train, X_test, Y_train, Y_test = train_test_split(X_b, Y, test_size=0.5)\n",
    "res_b = results(X_train, X_test, Y_train, Y_test)"
   ]
  },
  {
   "cell_type": "code",
   "execution_count": 5,
   "id": "speaking-infrared",
   "metadata": {},
   "outputs": [],
   "source": [
    "#After model upgrade\n",
    "X_a = data_new[feat_sel(X_b, Y)]\n",
    "Y = data_new[data_new.columns[0]]\n",
    "X_train, X_test, Y_train, Y_test = train_test_split(X_a, Y, test_size=0.5)\n",
    "res_a = results(X_train, X_test, Y_train, Y_test)"
   ]
  },
  {
   "cell_type": "code",
   "execution_count": 6,
   "id": "herbal-journalism",
   "metadata": {},
   "outputs": [
    {
     "data": {
      "text/html": [
       "<div>\n",
       "<style scoped>\n",
       "    .dataframe tbody tr th:only-of-type {\n",
       "        vertical-align: middle;\n",
       "    }\n",
       "\n",
       "    .dataframe tbody tr th {\n",
       "        vertical-align: top;\n",
       "    }\n",
       "\n",
       "    .dataframe thead th {\n",
       "        text-align: right;\n",
       "    }\n",
       "</style>\n",
       "<table border=\"1\" class=\"dataframe\">\n",
       "  <thead>\n",
       "    <tr style=\"text-align: right;\">\n",
       "      <th></th>\n",
       "      <th>Features</th>\n",
       "      <th>Results before</th>\n",
       "      <th>Results after</th>\n",
       "    </tr>\n",
       "  </thead>\n",
       "  <tbody>\n",
       "    <tr>\n",
       "      <th>0</th>\n",
       "      <td>Runtime</td>\n",
       "      <td>0.550559</td>\n",
       "      <td>0.385968</td>\n",
       "    </tr>\n",
       "    <tr>\n",
       "      <th>1</th>\n",
       "      <td>Accuracy Score</td>\n",
       "      <td>0.951750</td>\n",
       "      <td>0.953706</td>\n",
       "    </tr>\n",
       "    <tr>\n",
       "      <th>2</th>\n",
       "      <td>f1 score</td>\n",
       "      <td>0.837482</td>\n",
       "      <td>0.849257</td>\n",
       "    </tr>\n",
       "    <tr>\n",
       "      <th>3</th>\n",
       "      <td>Recall score</td>\n",
       "      <td>0.768817</td>\n",
       "      <td>0.796813</td>\n",
       "    </tr>\n",
       "    <tr>\n",
       "      <th>4</th>\n",
       "      <td>Rrecision score</td>\n",
       "      <td>0.919614</td>\n",
       "      <td>0.909091</td>\n",
       "    </tr>\n",
       "  </tbody>\n",
       "</table>\n",
       "</div>"
      ],
      "text/plain": [
       "          Features  Results before  Results after\n",
       "0          Runtime        0.550559       0.385968\n",
       "1   Accuracy Score        0.951750       0.953706\n",
       "2         f1 score        0.837482       0.849257\n",
       "3     Recall score        0.768817       0.796813\n",
       "4  Rrecision score        0.919614       0.909091"
      ]
     },
     "execution_count": 6,
     "metadata": {},
     "output_type": "execute_result"
    }
   ],
   "source": [
    "res1 = pd.DataFrame(res_b)\n",
    "res2 = pd.DataFrame(res_a)\n",
    "cols = pd.DataFrame(cols)\n",
    "feats = pd.concat([cols, res1, res2], axis=1)\n",
    "feats.columns = ('Features', 'Results before', 'Results after')\n",
    "feats"
   ]
  },
  {
   "cell_type": "code",
   "execution_count": null,
   "id": "opposite-kuwait",
   "metadata": {},
   "outputs": [],
   "source": []
  }
 ],
 "metadata": {
  "kernelspec": {
   "display_name": "Python 3",
   "language": "python",
   "name": "python3"
  },
  "language_info": {
   "codemirror_mode": {
    "name": "ipython",
    "version": 3
   },
   "file_extension": ".py",
   "mimetype": "text/x-python",
   "name": "python",
   "nbconvert_exporter": "python",
   "pygments_lexer": "ipython3",
   "version": "3.9.1"
  }
 },
 "nbformat": 4,
 "nbformat_minor": 5
}
