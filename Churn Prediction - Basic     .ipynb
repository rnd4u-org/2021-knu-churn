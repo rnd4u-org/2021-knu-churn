{
 "cells": [
  {
   "cell_type": "code",
   "execution_count": 1,
   "id": "regular-indian",
   "metadata": {},
   "outputs": [],
   "source": [
    "from pandas import read_csv\n",
    "import numpy as np\n",
    "import warnings\n",
    "from sklearn.model_selection import train_test_split,KFold\n",
    "from sklearn.metrics import accuracy_score,confusion_matrix,classification_report\n",
    "from sklearn.linear_model import LogisticRegression\n",
    "from sklearn.neighbors import KNeighborsClassifier\n",
    "from sklearn.naive_bayes import GaussianNB\n",
    "from sklearn.svm import LinearSVC\n",
    "from sklearn.svm import SVC\n",
    "from sklearn.tree import DecisionTreeClassifier\n",
    "from sklearn.ensemble import RandomForestClassifier\n",
    "from sklearn.model_selection import RandomizedSearchCV\n",
    "from sklearn import datasets\n",
    "from scipy.stats import uniform, truncnorm, randint\n",
    "from sklearn.metrics import roc_curve\n",
    "from sklearn.metrics import roc_auc_score\n",
    "from matplotlib import pyplot\n",
    "\n",
    "\n",
    "\n",
    "\n",
    "\n",
    "\n",
    "df = read_csv('Bank_Churnere.csv')\n",
    "\n"
   ]
  },
  {
   "cell_type": "code",
   "execution_count": 2,
   "id": "complicated-filename",
   "metadata": {},
   "outputs": [
    {
     "name": "stdout",
     "output_type": "stream",
     "text": [
      "X_train [[0.27272727 0.         1.         ... 0.30080497 0.44067797 0.51255539]\n",
      " [0.79545455 1.         0.         ... 0.22447394 0.38135593 0.43574594]\n",
      " [0.34090909 0.         2.         ... 0.12385256 0.31355932 0.36041359]\n",
      " ...\n",
      " [0.79545455 0.         0.         ... 0.24636351 0.51694915 0.78286558]\n",
      " [0.45454545 1.         2.         ... 0.03445841 0.12711864 0.394387  ]\n",
      " [0.47727273 1.         4.         ... 0.04074283 0.16101695 0.88847858]]\n",
      "X_test [[0.47727273 1.         1.         ... 0.18394295 0.5        0.58197932]\n",
      " [0.31818182 0.         1.         ... 0.31196159 0.58474576 0.45642541]\n",
      " [0.43181818 0.         5.         ... 0.30560655 0.51694915 0.6971935 ]\n",
      " ...\n",
      " [0.43181818 0.         4.         ... 0.04928682 0.12711864 0.77917282]\n",
      " [0.52272727 0.         1.         ... 0.25038836 0.48305085 0.57828656]\n",
      " [0.56818182 0.         4.         ... 0.44598221 0.43220339 0.605613  ]]\n",
      "Y_train [1 1 0 ... 1 0 1]\n",
      "Y_test [1 1 1 ... 1 1 0]\n"
     ]
    }
   ],
   "source": [
    "X = df.iloc[:, 1:19].values \n",
    "Y = df.iloc[:, 0].values \n",
    "X_train, X_test, Y_train, Y_test = train_test_split( X , Y, test_size = 0.3)\n",
    "\n",
    "\n",
    "\n",
    "print(\"X_train\",X_train)\n",
    "print(\"X_test\", X_test)\n",
    "print(\"Y_train\",Y_train)\n",
    "print(\"Y_test\",Y_test)"
   ]
  },
  {
   "cell_type": "code",
   "execution_count": 3,
   "id": "secret-banner",
   "metadata": {},
   "outputs": [
    {
     "name": "stdout",
     "output_type": "stream",
     "text": [
      "K-Nearest Neighbor\n",
      "Percent accurate - 84.08292340126494\n",
      "Confusion Matrix  \n",
      " [[ 114   62]\n",
      " [ 391 2279]]\n",
      "Report \n",
      "              precision    recall  f1-score   support\n",
      "\n",
      "           0       0.23      0.65      0.33       176\n",
      "           1       0.97      0.85      0.91      2670\n",
      "\n",
      "    accuracy                           0.84      2846\n",
      "   macro avg       0.60      0.75      0.62      2846\n",
      "weighted avg       0.93      0.84      0.87      2846\n",
      "\n"
     ]
    }
   ],
   "source": [
    "#knn\n",
    "fit_knn = KNeighborsClassifier().fit(X_train, Y_train)\n",
    "pred_knn = fit_knn.predict(X_test)\n",
    "print(\"K-Nearest Neighbor\")\n",
    "print(\"Percent accurate - {0}\".format(accuracy_score(pred_knn, Y_test)*100))\n",
    "print('Confusion Matrix  \\n {0}'.format(confusion_matrix(pred_knn, Y_test)))\n",
    "print('Report \\n{0}'.format(classification_report(pred_knn, Y_test)))"
   ]
  },
  {
   "cell_type": "code",
   "execution_count": 4,
   "id": "fancy-gardening",
   "metadata": {},
   "outputs": [
    {
     "name": "stdout",
     "output_type": "stream",
     "text": [
      "Naive Bayes\n",
      "Percent accurate - 88.22909346451159\n",
      "Confusion Matrix \n",
      " [[ 316  146]\n",
      " [ 189 2195]]\n",
      "Report\n",
      "              precision    recall  f1-score   support\n",
      "\n",
      "           0       0.63      0.68      0.65       462\n",
      "           1       0.94      0.92      0.93      2384\n",
      "\n",
      "    accuracy                           0.88      2846\n",
      "   macro avg       0.78      0.80      0.79      2846\n",
      "weighted avg       0.89      0.88      0.88      2846\n",
      "\n"
     ]
    }
   ],
   "source": [
    "print(\"Naive Bayes\")\n",
    "fit_ = GaussianNB().fit(X_train, Y_train)\n",
    "pred_ = fit_.predict(X_test)\n",
    "print(\"Percent accurate - {0}\".format(accuracy_score(pred_, Y_test)*100))\n",
    "print('Confusion Matrix \\n {0}'.format(confusion_matrix(pred_, Y_test)))\n",
    "print('Report\\n{0}'.format(classification_report(pred_, Y_test)))"
   ]
  },
  {
   "cell_type": "code",
   "execution_count": 5,
   "id": "radical-alliance",
   "metadata": {},
   "outputs": [
    {
     "name": "stdout",
     "output_type": "stream",
     "text": [
      "Decision Trees\n",
      "Percent accurate - 93.2888264230499\n",
      "Confusion Matrix : \n",
      " [[ 405   91]\n",
      " [ 100 2250]]\n",
      "Report :\n",
      "              precision    recall  f1-score   support\n",
      "\n",
      "           0       0.80      0.82      0.81       496\n",
      "           1       0.96      0.96      0.96      2350\n",
      "\n",
      "    accuracy                           0.93      2846\n",
      "   macro avg       0.88      0.89      0.88      2846\n",
      "weighted avg       0.93      0.93      0.93      2846\n",
      "\n"
     ]
    }
   ],
   "source": [
    "\n",
    "\n",
    "print(\"Decision Trees\")\n",
    "fit_ = DecisionTreeClassifier().fit(X_train, Y_train)\n",
    "pred = fit_.predict(X_test)\n",
    "print(\"Percent accurate - {0}\".format(accuracy_score(pred, Y_test)*100))\n",
    "print('Confusion Matrix : \\n {0}'.format(confusion_matrix(pred, Y_test)))\n",
    "print('Report :\\n{0}'.format(classification_report(pred, Y_test)))"
   ]
  },
  {
   "cell_type": "code",
   "execution_count": 6,
   "id": "foreign-berlin",
   "metadata": {},
   "outputs": [
    {
     "name": "stdout",
     "output_type": "stream",
     "text": [
      "Linear SVMs\n",
      "Percent accurate - 89.66971187631763\n",
      "Confusion Matrix : \n",
      " [[ 289   78]\n",
      " [ 216 2263]]\n",
      "Report :\n",
      "              precision    recall  f1-score   support\n",
      "\n",
      "           0       0.57      0.79      0.66       367\n",
      "           1       0.97      0.91      0.94      2479\n",
      "\n",
      "    accuracy                           0.90      2846\n",
      "   macro avg       0.77      0.85      0.80      2846\n",
      "weighted avg       0.92      0.90      0.90      2846\n",
      "\n"
     ]
    },
    {
     "name": "stderr",
     "output_type": "stream",
     "text": [
      "c:\\users\\liubomyr\\appdata\\local\\programs\\python\\python38-32\\lib\\site-packages\\sklearn\\svm\\_base.py:985: ConvergenceWarning: Liblinear failed to converge, increase the number of iterations.\n",
      "  warnings.warn(\"Liblinear failed to converge, increase \"\n"
     ]
    }
   ],
   "source": [
    "print(\"Linear SVMs\")\n",
    "fit_ = LinearSVC().fit(X_train, Y_train)\n",
    "pred = fit_.predict(X_test)\n",
    "print(\"Percent accurate - {0}\".format(accuracy_score(pred, Y_test)*100))\n",
    "print('Confusion Matrix : \\n {0}'.format(confusion_matrix(pred, Y_test)))\n",
    "print('Report :\\n{0}'.format(classification_report(pred, Y_test)))"
   ]
  },
  {
   "cell_type": "code",
   "execution_count": 7,
   "id": "permanent-comfort",
   "metadata": {},
   "outputs": [
    {
     "name": "stdout",
     "output_type": "stream",
     "text": [
      "Random Forest\n",
      "Percent accurate - 96.20520028109627\n",
      "Confusion Matrix : \n",
      " [[ 427   30]\n",
      " [  78 2311]]\n",
      "Report :\n",
      "              precision    recall  f1-score   support\n",
      "\n",
      "           0       0.85      0.93      0.89       457\n",
      "           1       0.99      0.97      0.98      2389\n",
      "\n",
      "    accuracy                           0.96      2846\n",
      "   macro avg       0.92      0.95      0.93      2846\n",
      "weighted avg       0.96      0.96      0.96      2846\n",
      "\n"
     ]
    }
   ],
   "source": [
    "\n",
    "\n",
    "\n",
    "print(\"Random Forest\")\n",
    "fit_ = RandomForestClassifier().fit(X_train, Y_train)\n",
    "pred = fit_.predict(X_test)\n",
    "print(\"Percent accurate - {0}\".format(accuracy_score(pred, Y_test)*100))\n",
    "print('Confusion Matrix : \\n {0}'.format(confusion_matrix(pred, Y_test)))\n",
    "print('Report :\\n{0}'.format(classification_report(pred, Y_test)))"
   ]
  },
  {
   "cell_type": "code",
   "execution_count": 8,
   "id": "original-turtle",
   "metadata": {},
   "outputs": [
    {
     "name": "stdout",
     "output_type": "stream",
     "text": [
      "Non Linear SVMs\n",
      "Percent accurate - 88.89669711876319\n",
      "Confusion Matrix : \n",
      " [[ 203   14]\n",
      " [ 302 2327]]\n",
      "Report :\n",
      "              precision    recall  f1-score   support\n",
      "\n",
      "           0       0.40      0.94      0.56       217\n",
      "           1       0.99      0.89      0.94      2629\n",
      "\n",
      "    accuracy                           0.89      2846\n",
      "   macro avg       0.70      0.91      0.75      2846\n",
      "weighted avg       0.95      0.89      0.91      2846\n",
      "\n"
     ]
    }
   ],
   "source": [
    "\n",
    "print(\"Non Linear SVMs\")\n",
    "a = SVC(kernel='rbf')\n",
    "fit_ = a.fit(X_train, Y_train)\n",
    "pred = fit_.predict(X_test)\n",
    "print(\"Percent accurate - {0}\" .format(accuracy_score(pred, Y_test)*100))\n",
    "print('Confusion Matrix : \\n {0}'.format(confusion_matrix(pred, Y_test)))\n",
    "print('Report :\\n{0}'.format(classification_report(pred, Y_test)))"
   ]
  },
  {
   "cell_type": "code",
   "execution_count": 9,
   "id": "considered-salmon",
   "metadata": {},
   "outputs": [
    {
     "name": "stdout",
     "output_type": "stream",
     "text": [
      "Regression\n",
      "No Skill: ROC AUC=0.500\n",
      "Logistic: ROC AUC=0.921\n"
     ]
    },
    {
     "name": "stderr",
     "output_type": "stream",
     "text": [
      "c:\\users\\liubomyr\\appdata\\local\\programs\\python\\python38-32\\lib\\site-packages\\sklearn\\linear_model\\_logistic.py:763: ConvergenceWarning: lbfgs failed to converge (status=1):\n",
      "STOP: TOTAL NO. of ITERATIONS REACHED LIMIT.\n",
      "\n",
      "Increase the number of iterations (max_iter) or scale the data as shown in:\n",
      "    https://scikit-learn.org/stable/modules/preprocessing.html\n",
      "Please also refer to the documentation for alternative solver options:\n",
      "    https://scikit-learn.org/stable/modules/linear_model.html#logistic-regression\n",
      "  n_iter_i = _check_optimize_result(\n"
     ]
    },
    {
     "data": {
      "image/png": "[encoded data removed]",
      "text/plain": [
       "<Figure size 432x288 with 1 Axes>"
      ]
     },
     "metadata": {
      "needs_background": "light"
     },
     "output_type": "display_data"
    }
   ],
   "source": [
    "print(\"Regression\")\n",
    "\n",
    "trainX, testX, trainy, testy = train_test_split(X, Y, test_size=0.5, random_state=2)\n",
    "ns_probs = [0 for _ in range(len(testy))]\n",
    "model = LogisticRegression(solver='lbfgs')\n",
    "model.fit(trainX, trainy)\n",
    "\n",
    "lr_probs = model.predict_proba(testX)\n",
    "lr_probs = lr_probs[:, 1]\n",
    "ns_auc = roc_auc_score(testy, ns_probs)\n",
    "lr_auc = roc_auc_score(testy, lr_probs)\n",
    "print('No Skill: ROC AUC=%.3f' % (ns_auc))\n",
    "print('Logistic: ROC AUC=%.3f' % (lr_auc))\n",
    "ns_fpr, ns_tpr, _ = roc_curve(testy, ns_probs)\n",
    "lr_fpr, lr_tpr, _ = roc_curve(testy, lr_probs)\n",
    "\n",
    "pyplot.plot(ns_fpr, ns_tpr, linestyle='--', label='No Skill')\n",
    "pyplot.plot(lr_fpr, lr_tpr, marker='.', label='Logistic')\n",
    "pyplot.xlabel('False Positive Rate')\n",
    "pyplot.ylabel('True Positive Rate')\n",
    "pyplot.legend()\n",
    "pyplot.show()"
   ]
  },
  {
   "cell_type": "code",
   "execution_count": 10,
   "id": "motivated-elizabeth",
   "metadata": {},
   "outputs": [
    {
     "name": "stdout",
     "output_type": "stream",
     "text": [
      "ROC curves\n",
      "No Skill: ROC AUC=0.500\n",
      "Logistic: ROC AUC=0.921\n"
     ]
    },
    {
     "name": "stderr",
     "output_type": "stream",
     "text": [
      "c:\\users\\liubomyr\\appdata\\local\\programs\\python\\python38-32\\lib\\site-packages\\sklearn\\linear_model\\_logistic.py:763: ConvergenceWarning: lbfgs failed to converge (status=1):\n",
      "STOP: TOTAL NO. of ITERATIONS REACHED LIMIT.\n",
      "\n",
      "Increase the number of iterations (max_iter) or scale the data as shown in:\n",
      "    https://scikit-learn.org/stable/modules/preprocessing.html\n",
      "Please also refer to the documentation for alternative solver options:\n",
      "    https://scikit-learn.org/stable/modules/linear_model.html#logistic-regression\n",
      "  n_iter_i = _check_optimize_result(\n"
     ]
    },
    {
     "data": {
      "image/png": "[encoded data removed]",
      "text/plain": [
       "<Figure size 432x288 with 1 Axes>"
      ]
     },
     "metadata": {
      "needs_background": "light"
     },
     "output_type": "display_data"
    }
   ],
   "source": [
    "print(\"ROC curves\")\n",
    "\n",
    "trainX, testX, trainy, testy = train_test_split(X, Y, test_size=0.5, random_state=2)\n",
    "ns_probs = [0 for _ in range(len(testy))]\n",
    "model = LogisticRegression(solver='lbfgs')\n",
    "model.fit(trainX, trainy)\n",
    "lr_probs = model.predict_proba(testX)\n",
    "lr_probs = lr_probs[:, 1]\n",
    "ns_auc = roc_auc_score(testy, ns_probs)\n",
    "lr_auc = roc_auc_score(testy, lr_probs)\n",
    "print('No Skill: ROC AUC=%.3f' % (ns_auc))\n",
    "print('Logistic: ROC AUC=%.3f' % (lr_auc))\n",
    "ns_fpr, ns_tpr, _ = roc_curve(testy, ns_probs)\n",
    "lr_fpr, lr_tpr, _ = roc_curve(testy, lr_probs)\n",
    "\n",
    "pyplot.plot(ns_fpr, ns_tpr, linestyle='--', label='No Skill')\n",
    "pyplot.plot(lr_fpr, lr_tpr, marker='.', label='Logistic')\n",
    "pyplot.xlabel('False Positive Rate')\n",
    "pyplot.ylabel('True Positive Rate')\n",
    "pyplot.legend()\n",
    "pyplot.show()"
   ]
  },
  {
   "cell_type": "code",
   "execution_count": 11,
   "id": "dominant-invention",
   "metadata": {},
   "outputs": [],
   "source": [
    "ar = {'n_estimators': [*range(100, 1100, 100)], 'max_features': [*range(1, 20)]}\n",
    "r = RandomizedSearchCV(estimator=RandomForestClassifier(), param_distributions=ar, random_state=0)\n",
    "r.fit(X_train, Y_train)\n",
    "a= RandomForestClassifier(n_estimators = r.best_params_['n_estimators'], max_features = r.best_params_['max_features'])\n",
    "a.fit(X_train, Y_train)\n",
    "q = a.predict(X_test)\n"
   ]
  },
  {
   "cell_type": "code",
   "execution_count": 12,
   "id": "restricted-chick",
   "metadata": {},
   "outputs": [
    {
     "name": "stdout",
     "output_type": "stream",
     "text": [
      "Before  - 88.89669711876319 \n",
      "After  - 96.34574841883345 \n"
     ]
    }
   ],
   "source": [
    "print(\"Before  - {0} \".format(accuracy_score(pred, Y_test)*100))\n",
    "print(\"After  - {0} \".format(accuracy_score(Y_test, q)*100))"
   ]
  },
  {
   "cell_type": "code",
   "execution_count": 14,
   "id": "permanent-electronics",
   "metadata": {},
   "outputs": [
    {
     "name": "stdout",
     "output_type": "stream",
     "text": [
      "Average score : 0.9619399051133369\n"
     ]
    }
   ],
   "source": [
    "k = KFold(7, shuffle=True, random_state=1)\n",
    "arr = []\n",
    "\n",
    "for i in range(7):\n",
    "    spl  = next(k.split(df), None)\n",
    "    t_x = df.iloc[spl[0], 1:19]\n",
    "    t_X  = df.iloc[spl[1], 1:19]\n",
    "    t_y = df.iloc[spl[0], 0]\n",
    "    t_Y  = df.iloc[spl[1], 0]\n",
    "    \n",
    "    i = RandomForestClassifier().fit(t_x,t_y)\n",
    "    arr.append(accuracy_score(t_Y, i.predict(t_X)))\n",
    "\n",
    "print('Average score :' , np.mean(arr))"
   ]
  },
  {
   "cell_type": "code",
   "execution_count": null,
   "id": "smooth-proposition",
   "metadata": {},
   "outputs": [],
   "source": []
  }
 ],
 "metadata": {
  "kernelspec": {
   "display_name": "Python 3",
   "language": "python",
   "name": "python3"
  },
  "language_info": {
   "codemirror_mode": {
    "name": "ipython",
    "version": 3
   },
   "file_extension": ".py",
   "mimetype": "text/x-python",
   "name": "python",
   "nbconvert_exporter": "python",
   "pygments_lexer": "ipython3",
   "version": "3.8.2"
  }
 },
 "nbformat": 4,
 "nbformat_minor": 5
}
