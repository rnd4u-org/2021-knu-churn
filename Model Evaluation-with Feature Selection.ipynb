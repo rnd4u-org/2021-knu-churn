{
 "cells": [
  {
   "cell_type": "code",
   "execution_count": 2,
   "id": "bridal-buffalo",
   "metadata": {},
   "outputs": [
    {
     "name": "stdout",
     "output_type": "stream",
     "text": [
      "       Unnamed: 0  CLIENTNUM  Attrition_Flag  Customer_Age  Gender  \\\n",
      "0               0  768805383               0      0.404255       1   \n",
      "1               2  713982108               0      0.531915       1   \n",
      "2               3  769911858               0      0.297872       0   \n",
      "3               4  709106358               0      0.297872       1   \n",
      "4               5  713061558               0      0.382979       1   \n",
      "...           ...        ...             ...           ...     ...   \n",
      "10114       10122  772366833               0      0.510638       1   \n",
      "10115       10123  710638233               1      0.319149       1   \n",
      "10116       10124  716506083               1      0.382979       0   \n",
      "10117       10125  717406983               1      0.085106       1   \n",
      "10118       10126  714337233               1      0.361702       0   \n",
      "\n",
      "       Dependent_count  Education_Level  Marital_Status  Income_Category  \\\n",
      "0                    3                1               0                2   \n",
      "1                    3                3               0                3   \n",
      "2                    4                1               0                0   \n",
      "3                    3                0               0                2   \n",
      "4                    2                3               0                1   \n",
      "...                ...              ...             ...              ...   \n",
      "10114                2                3               1                1   \n",
      "10115                2                2               3                1   \n",
      "10116                1                1               0                0   \n",
      "10117                2                3               1                1   \n",
      "10118                2                3               0                0   \n",
      "\n",
      "       Card_Category  ...  Months_Inactive_12_mon  Contacts_Count_12_mon  \\\n",
      "0                  0  ...                       1                      3   \n",
      "1                  0  ...                       1                      0   \n",
      "2                  0  ...                       4                      1   \n",
      "3                  0  ...                       1                      0   \n",
      "4                  0  ...                       1                      2   \n",
      "...              ...  ...                     ...                    ...   \n",
      "10114              0  ...                       2                      3   \n",
      "10115              0  ...                       2                      3   \n",
      "10116              0  ...                       3                      4   \n",
      "10117              0  ...                       3                      3   \n",
      "10118              1  ...                       2                      4   \n",
      "\n",
      "       Credit_Limit  Total_Revolving_Bal  Avg_Open_To_Buy  \\\n",
      "0          0.340190             0.308701         0.345116   \n",
      "1          0.059850             0.000000         0.098948   \n",
      "2          0.056676             1.000000         0.022977   \n",
      "3          0.099091             0.000000         0.136557   \n",
      "4          0.077747             0.495431         0.079970   \n",
      "...             ...                  ...              ...   \n",
      "10114      0.077536             0.735399         0.062266   \n",
      "10115      0.085819             0.868494         0.060499   \n",
      "10116      0.120042             0.000000         0.156637   \n",
      "10117      0.116172             0.000000         0.152928   \n",
      "10118      0.270566             0.779102         0.244082   \n",
      "\n",
      "       Total_Amt_Chng_Q4_Q1  Total_Trans_Amt  Total_Trans_Ct  \\\n",
      "0                  0.392994         0.035273        0.248062   \n",
      "1                  0.763615         0.076611        0.077519   \n",
      "2                  0.413600         0.036775        0.077519   \n",
      "3                  0.640271         0.017025        0.139535   \n",
      "4                  0.405063         0.032158        0.108527   \n",
      "...                     ...              ...             ...   \n",
      "10114              0.206947         0.832647        0.829457   \n",
      "10115              0.236679         0.459219        0.457364   \n",
      "10116              0.241095         0.544175        0.387597   \n",
      "10117              0.157492         0.438689        0.403101   \n",
      "10118              0.206947         0.544342        0.395349   \n",
      "\n",
      "       Total_Ct_Chng_Q4_Q1  Avg_Utilization_Ratio  \n",
      "0                 0.437534               0.061061  \n",
      "1                 0.628164               0.000000  \n",
      "2                 0.628164               0.760761  \n",
      "3                 0.673129               0.000000  \n",
      "4                 0.227787               0.311311  \n",
      "...                    ...                    ...  \n",
      "10114             0.230749               0.462462  \n",
      "10115             0.183899               0.511512  \n",
      "10116             0.220248               0.000000  \n",
      "10117             0.194400               0.000000  \n",
      "10118             0.174744               0.189189  \n",
      "\n",
      "[10119 rows x 22 columns]\n"
     ]
    }
   ],
   "source": [
    "import pandas\n",
    "import sklearn.neighbors\n",
    "from sklearn.model_selection import train_test_split\n",
    "from sklearn.metrics import accuracy_score\n",
    "from sklearn.metrics import classification_report\n",
    "from sklearn.naive_bayes import CategoricalNB\n",
    "import numpy as np\n",
    "from sklearn.tree import DecisionTreeClassifier\n",
    "from sklearn.ensemble import RandomForestClassifier\n",
    "from sklearn.svm import SVC\n",
    "from sklearn.model_selection import GridSearchCV\n",
    "from sklearn.model_selection import RandomizedSearchCV\n",
    "from sklearn.feature_selection import SelectKBest\n",
    "from sklearn.feature_selection import GenericUnivariateSelect\n",
    "from sklearn.feature_selection import chi2\n",
    "\n",
    "dat=pandas.read_csv(\"Preprocessed.csv\",  delimiter=\",\")\n",
    "\n",
    "#Удаление лишних колонок\n",
    "dat=dat.drop(columns=['Naive_Bayes_Classifier_Attrition_Flag_Card_Category_Contacts_Count_12_mon_Dependent_count_Education_Level_Months_Inactive_12_mon_1', 'Naive_Bayes_Classifier_Attrition_Flag_Card_Category_Contacts_Count_12_mon_Dependent_count_Education_Level_Months_Inactive_12_mon_2'])\n",
    "print(dat)"
   ]
  },
  {
   "cell_type": "code",
   "execution_count": 3,
   "id": "further-casino",
   "metadata": {},
   "outputs": [],
   "source": [
    "x_train, x_test, y_train, y_test= train_test_split(dat.drop(columns=[\"Attrition_Flag\"]),dat[\"Attrition_Flag\"])"
   ]
  },
  {
   "cell_type": "code",
   "execution_count": 14,
   "id": "aggregate-outside",
   "metadata": {},
   "outputs": [
    {
     "name": "stdout",
     "output_type": "stream",
     "text": [
      "Feature, Score, Chosen\n",
      "Customer_Age 0.23097058796475428 False\n",
      "Gender 7.403674574998631 True\n",
      "Dependent_count 2.6100052471881208 False\n",
      "Education_Level 3.0046908614671386 False\n",
      "Marital_Status 2.8481249118110057 False\n",
      "Income_Category 2.5407447349122005 False\n",
      "Card_Category 0.06927156528648293 False\n",
      "Months_on_book 0.12613480939047667 False\n",
      "Total_Relationship_Count 144.14616877163806 True\n",
      "Months_Inactive_12_mon 102.88545555466158 True\n",
      "Contacts_Count_12_mon 210.4794777491118 True\n",
      "Credit_Limit 1.997290440205123 False\n",
      "Total_Revolving_Bal 158.92360555865508 True\n",
      "Avg_Open_To_Buy 0.00021263057625199185 False\n",
      "Total_Amt_Chng_Q4_Q1 3.141673225398328 True\n",
      "Total_Trans_Amt 47.606078220189964 True\n",
      "Total_Trans_Ct 109.04168216471369 True\n",
      "Total_Ct_Chng_Q4_Q1 17.886289475455907 True\n",
      "Avg_Utilization_Ratio 89.17868959336053 True\n"
     ]
    }
   ],
   "source": [
    "#First\n",
    "\n",
    "dd=dat.drop(columns=[\"Attrition_Flag\"])\n",
    "\n",
    "transformer = GenericUnivariateSelect(mode= \"k_best\",param=12,score_func=chi2)\n",
    "sel_data = transformer.fit_transform(dd,dat[\"Attrition_Flag\"])\n",
    "\n",
    "dct={}\n",
    "ss=transformer.scores_\n",
    "ss1=list(reversed(sorted(ss)))[:12]\n",
    "print(\"Feature, Score, Chosen\")\n",
    "for i in range (2,len(dd.columns)):\n",
    "    dct[dd.columns[i]]=ss[i]\n",
    "    print(dd.columns[i],ss[i],ss[i] in ss1)\n",
    "\n",
    "x_train1, x_test1, y_train1, y_test1= train_test_split(sel_data,dat[\"Attrition_Flag\"])"
   ]
  },
  {
   "cell_type": "code",
   "execution_count": 18,
   "id": "passive-yield",
   "metadata": {},
   "outputs": [
    {
     "name": "stdout",
     "output_type": "stream",
     "text": [
      "Feature, Score, Chosen\n",
      "Customer_Age 0.23097058796475428 False\n",
      "Gender 7.403674574998631 True\n",
      "Dependent_count 2.6100052471881208 False\n",
      "Education_Level 3.0046908614671386 False\n",
      "Marital_Status 2.8481249118110057 False\n",
      "Income_Category 2.5407447349122005 False\n",
      "Card_Category 0.06927156528648293 False\n",
      "Months_on_book 0.12613480939047667 False\n",
      "Total_Relationship_Count 144.14616877163806 True\n",
      "Months_Inactive_12_mon 102.88545555466158 True\n",
      "Contacts_Count_12_mon 210.4794777491118 True\n",
      "Credit_Limit 1.997290440205123 False\n",
      "Total_Revolving_Bal 158.92360555865508 True\n",
      "Avg_Open_To_Buy 0.00021263057625199185 False\n",
      "Total_Amt_Chng_Q4_Q1 3.141673225398328 True\n",
      "Total_Trans_Amt 47.606078220189964 True\n",
      "Total_Trans_Ct 109.04168216471369 True\n",
      "Total_Ct_Chng_Q4_Q1 17.886289475455907 True\n",
      "Avg_Utilization_Ratio 89.17868959336053 True\n"
     ]
    }
   ],
   "source": [
    "#Second\n",
    "\n",
    "selector=sklearn.feature_selection.SelectKBest(score_func=chi2,k=10)\n",
    "sel_data=selector.fit_transform(dat.drop(columns=[\"Attrition_Flag\"]),dat[\"Attrition_Flag\"])\n",
    "\n",
    "dct={}\n",
    "ss=selector.scores_\n",
    "ss1=list(reversed(sorted(ss)))[:12]\n",
    "print(\"Feature, Score, Chosen\")\n",
    "for i in range (2,len(dd.columns)):\n",
    "    dct[dd.columns[i]]=ss[i]\n",
    "    print(dd.columns[i],ss[i],ss[i] in ss1)\n",
    "\n",
    "x_train2, x_test2, y_train2, y_test2= train_test_split(sel_data,dat[\"Attrition_Flag\"])"
   ]
  },
  {
   "cell_type": "code",
   "execution_count": 19,
   "id": "active-reset",
   "metadata": {},
   "outputs": [
    {
     "name": "stdout",
     "output_type": "stream",
     "text": [
      "KNN, k=5: uniform \n",
      "Default:\n",
      "              precision    recall  f1-score   support\n",
      "\n",
      "           0     0.8344    0.9631    0.8941      2113\n",
      "           1     0.1429    0.0312    0.0512       417\n",
      "\n",
      "    accuracy                         0.8095      2530\n",
      "   macro avg     0.4886    0.4971    0.4726      2530\n",
      "weighted avg     0.7204    0.8095    0.7552      2530\n",
      "\n",
      "First:\n",
      "              precision    recall  f1-score   support\n",
      "\n",
      "           0     0.8427    0.9615    0.8982      2128\n",
      "           1     0.1961    0.0498    0.0794       402\n",
      "\n",
      "    accuracy                         0.8166      2530\n",
      "   macro avg     0.5194    0.5056    0.4888      2530\n",
      "weighted avg     0.7399    0.8166    0.7681      2530\n",
      "\n",
      "Second:\n",
      "              precision    recall  f1-score   support\n",
      "\n",
      "           0     0.8410    0.9679    0.9000      2121\n",
      "           1     0.2360    0.0513    0.0843       409\n",
      "\n",
      "    accuracy                         0.8198      2530\n",
      "   macro avg     0.5385    0.5096    0.4922      2530\n",
      "weighted avg     0.7432    0.8198    0.7682      2530\n",
      "\n"
     ]
    }
   ],
   "source": [
    "print(\"KNN, k=5: uniform \")\n",
    "\n",
    "knn=sklearn.neighbors.KNeighborsClassifier(n_neighbors=5,weights='uniform')\n",
    "\n",
    "print(\"Default:\")\n",
    "knn.fit(x_train, y_train)\n",
    "ddd=knn.predict(x_test)\n",
    "print(classification_report(y_test, ddd,digits=4))\n",
    "\n",
    "print(\"First:\")\n",
    "knn.fit(x_train1, y_train1)\n",
    "ddd=knn.predict(x_test1)\n",
    "print(classification_report(y_test1, ddd,digits=4))\n",
    "\n",
    "print(\"Second:\")\n",
    "knn.fit(x_train2, y_train2)\n",
    "ddd=knn.predict(x_test2)\n",
    "print(classification_report(y_test2, ddd,digits=4))"
   ]
  },
  {
   "cell_type": "code",
   "execution_count": 20,
   "id": "sensitive-variance",
   "metadata": {},
   "outputs": [
    {
     "name": "stdout",
     "output_type": "stream",
     "text": [
      "DecisionTree: \n",
      "Default:\n",
      "              precision    recall  f1-score   support\n",
      "\n",
      "           0     0.9788    0.9849    0.9818      2113\n",
      "           1     0.9208    0.8921    0.9062       417\n",
      "\n",
      "    accuracy                         0.9696      2530\n",
      "   macro avg     0.9498    0.9385    0.9440      2530\n",
      "weighted avg     0.9693    0.9696    0.9694      2530\n",
      "\n",
      "First:\n",
      "              precision    recall  f1-score   support\n",
      "\n",
      "           0     0.9882    0.9850    0.9866      2128\n",
      "           1     0.9218    0.9378    0.9297       402\n",
      "\n",
      "    accuracy                         0.9775      2530\n",
      "   macro avg     0.9550    0.9614    0.9582      2530\n",
      "weighted avg     0.9777    0.9775    0.9775      2530\n",
      "\n",
      "Second:\n",
      "              precision    recall  f1-score   support\n",
      "\n",
      "           0     0.9849    0.9854    0.9852      2121\n",
      "           1     0.9240    0.9218    0.9229       409\n",
      "\n",
      "    accuracy                         0.9751      2530\n",
      "   macro avg     0.9545    0.9536    0.9540      2530\n",
      "weighted avg     0.9751    0.9751    0.9751      2530\n",
      "\n"
     ]
    }
   ],
   "source": [
    "print(\"DecisionTree: \")\n",
    "\n",
    "dt=sklearn.tree.DecisionTreeClassifier()\n",
    "\n",
    "print(\"Default:\")\n",
    "dt.fit(x_train, y_train)\n",
    "ddd=dt.predict(x_test)\n",
    "print(classification_report(y_test, ddd,digits=4))\n",
    "\n",
    "print(\"First:\")\n",
    "dt.fit(x_train1, y_train1)\n",
    "ddd=dt.predict(x_test1)\n",
    "print(classification_report(y_test1, ddd,digits=4))\n",
    "\n",
    "print(\"Second:\")\n",
    "dt.fit(x_train2, y_train2)\n",
    "ddd=dt.predict(x_test2)\n",
    "print(classification_report(y_test2, ddd,digits=4))"
   ]
  },
  {
   "cell_type": "code",
   "execution_count": 21,
   "id": "exotic-lucas",
   "metadata": {
    "scrolled": true
   },
   "outputs": [
    {
     "name": "stdout",
     "output_type": "stream",
     "text": [
      "RandomForest: \n",
      "Default:\n",
      "              precision    recall  f1-score   support\n",
      "\n",
      "           0     0.9841    0.9957    0.9899      2113\n",
      "           1     0.9770    0.9185    0.9468       417\n",
      "\n",
      "    accuracy                         0.9830      2530\n",
      "   macro avg     0.9806    0.9571    0.9684      2530\n",
      "weighted avg     0.9829    0.9830    0.9828      2530\n",
      "\n",
      "First:\n",
      "              precision    recall  f1-score   support\n",
      "\n",
      "           0     0.9911    0.9925    0.9918      2128\n",
      "           1     0.9599    0.9527    0.9563       402\n",
      "\n",
      "    accuracy                         0.9862      2530\n",
      "   macro avg     0.9755    0.9726    0.9740      2530\n",
      "weighted avg     0.9861    0.9862    0.9861      2530\n",
      "\n",
      "Second:\n",
      "              precision    recall  f1-score   support\n",
      "\n",
      "           0     0.9897    0.9934    0.9915      2121\n",
      "           1     0.9651    0.9462    0.9556       409\n",
      "\n",
      "    accuracy                         0.9858      2530\n",
      "   macro avg     0.9774    0.9698    0.9735      2530\n",
      "weighted avg     0.9857    0.9858    0.9857      2530\n",
      "\n"
     ]
    }
   ],
   "source": [
    "print(\"RandomForest: \")\n",
    "\n",
    "rf=sklearn.ensemble.RandomForestClassifier()\n",
    "\n",
    "print(\"Default:\")\n",
    "rf.fit(x_train, y_train)\n",
    "ddd=rf.predict(x_test)\n",
    "print(classification_report(y_test, ddd,digits=4))\n",
    "\n",
    "print(\"First:\")\n",
    "rf.fit(x_train1, y_train1)\n",
    "ddd=rf.predict(x_test1)\n",
    "print(classification_report(y_test1, ddd,digits=4))\n",
    "\n",
    "print(\"Second:\")\n",
    "rf.fit(x_train2, y_train2)\n",
    "ddd=rf.predict(x_test2)\n",
    "print(classification_report(y_test2, ddd,digits=4))"
   ]
  },
  {
   "cell_type": "code",
   "execution_count": 24,
   "id": "metallic-montana",
   "metadata": {},
   "outputs": [
    {
     "name": "stdout",
     "output_type": "stream",
     "text": [
      "SVC: accuracy\n",
      "Default:\n",
      "              precision    recall  f1-score   support\n",
      "\n",
      "           0     0.8352    1.0000    0.9102      2113\n",
      "           1     0.0000    0.0000    0.0000       417\n",
      "\n",
      "    accuracy                         0.8352      2530\n",
      "   macro avg     0.4176    0.5000    0.4551      2530\n",
      "weighted avg     0.6975    0.8352    0.7602      2530\n",
      "\n",
      "First:\n",
      "              precision    recall  f1-score   support\n",
      "\n",
      "           0     0.8411    1.0000    0.9137      2128\n",
      "           1     0.0000    0.0000    0.0000       402\n",
      "\n",
      "    accuracy                         0.8411      2530\n",
      "   macro avg     0.4206    0.5000    0.4568      2530\n",
      "weighted avg     0.7075    0.8411    0.7685      2530\n",
      "\n",
      "Second:\n",
      "              precision    recall  f1-score   support\n",
      "\n",
      "           0     0.8383    1.0000    0.9121      2121\n",
      "           1     0.0000    0.0000    0.0000       409\n",
      "\n",
      "    accuracy                         0.8383      2530\n",
      "   macro avg     0.4192    0.5000    0.4560      2530\n",
      "weighted avg     0.7028    0.8383    0.7646      2530\n",
      "\n"
     ]
    }
   ],
   "source": [
    "print(\"SVC: accuracy\")\n",
    "\n",
    "svmc=sklearn.svm.SVC()\n",
    "\n",
    "print(\"Default:\")\n",
    "svmc.fit(x_train, y_train)\n",
    "ddd=svmc.predict(x_test)\n",
    "print(classification_report(y_test, ddd,digits=4,zero_division=0))\n",
    "\n",
    "print(\"First:\")\n",
    "svmc.fit(x_train1, y_train1)\n",
    "ddd=svmc.predict(x_test1)\n",
    "print(classification_report(y_test1, ddd,digits=4,zero_division=0))\n",
    "\n",
    "print(\"Second:\")\n",
    "svmc.fit(x_train2, y_train2)\n",
    "ddd=svmc.predict(x_test2)\n",
    "print(classification_report(y_test2, ddd,digits=4,zero_division=0))"
   ]
  },
  {
   "cell_type": "markdown",
   "id": "nuclear-sentence",
   "metadata": {},
   "source": [
    "Decision Tree and Random Forest are much better, so they will be used"
   ]
  },
  {
   "cell_type": "markdown",
   "id": "banned-rental",
   "metadata": {},
   "source": [
    "Tuning parameters"
   ]
  },
  {
   "cell_type": "code",
   "execution_count": 26,
   "id": "automotive-ballet",
   "metadata": {},
   "outputs": [
    {
     "name": "stdout",
     "output_type": "stream",
     "text": [
      "First:\n",
      "DecisionTreeClassifier(criterion='entropy', min_samples_split=4)\n",
      "0.9762807635554189\n",
      "Second:\n",
      "DecisionTreeClassifier(min_samples_split=4)\n",
      "0.9749637616021498\n"
     ]
    }
   ],
   "source": [
    "#Для Decision Tree сделал Grid, а не Randomized для большей точности\n",
    "par_dt={\"criterion\":[\"gini\", \"entropy\"],\"min_samples_split\": [1.0]+list(range(2,5)),\"max_features\":[None,\"auto\", \"sqrt\", \"log2\"]}\n",
    "\n",
    "print(\"First:\")\n",
    "\n",
    "gr_scv_dt=GridSearchCV(estimator=dt,param_grid=par_dt)\n",
    "gr_scv_dt.fit(x_train1,y_train1)\n",
    "print(gr_scv_dt.best_estimator_)\n",
    "print(gr_scv_dt.best_score_)\n",
    "\n",
    "print(\"Second:\")\n",
    "gr_scv_dt=GridSearchCV(estimator=dt,param_grid=par_dt)\n",
    "gr_scv_dt.fit(x_train2,y_train2)\n",
    "print(gr_scv_dt.best_estimator_)\n",
    "print(gr_scv_dt.best_score_)"
   ]
  },
  {
   "cell_type": "code",
   "execution_count": 28,
   "id": "derived-zimbabwe",
   "metadata": {},
   "outputs": [
    {
     "name": "stdout",
     "output_type": "stream",
     "text": [
      "First:\n",
      "RandomForestClassifier(criterion='entropy', max_features=None,\n",
      "                       min_samples_split=5)\n",
      "0.9841877257571848\n",
      "Second:\n",
      "RandomForestClassifier(criterion='entropy', min_samples_split=3)\n",
      "0.9849783264417411\n"
     ]
    }
   ],
   "source": [
    "#Для Random Forest Grid работало бы невероятно долго, поэтому Randomized\n",
    "par_rf={\"criterion\":[\"gini\", \"entropy\"],\"n_estimators\":[100,200,600,1000],\"min_samples_split\": [1.0,2,3,5],\"max_features\":[None,\"auto\", \"sqrt\", \"log2\"]}\n",
    "\n",
    "print(\"First:\")\n",
    "\n",
    "rd_scv_rf=RandomizedSearchCV(estimator=rf,param_distributions=par_rf,n_iter=5)\n",
    "rd_scv_rf.fit(x_train1,y_train1) \n",
    "print(rd_scv_rf.best_estimator_)\n",
    "print(rd_scv_rf.best_score_)\n",
    "\n",
    "print(\"Second:\")\n",
    "rd_scv_rf=RandomizedSearchCV(estimator=rf,param_distributions=par_rf,n_iter=5)\n",
    "rd_scv_rf.fit(x_train2,y_train2) \n",
    "print(rd_scv_rf.best_estimator_)\n",
    "print(rd_scv_rf.best_score_)"
   ]
  },
  {
   "cell_type": "code",
   "execution_count": 29,
   "id": "circular-december",
   "metadata": {},
   "outputs": [
    {
     "name": "stdout",
     "output_type": "stream",
     "text": [
      "              precision    recall  f1-score   support\n",
      "\n",
      "           0     0.9925    0.9939    0.9932      2128\n",
      "           1     0.9674    0.9602    0.9638       402\n",
      "\n",
      "    accuracy                         0.9885      2530\n",
      "   macro avg     0.9800    0.9770    0.9785      2530\n",
      "weighted avg     0.9885    0.9885    0.9885      2530\n",
      "\n"
     ]
    }
   ],
   "source": [
    "#Тест итоговой выбранной модели\n",
    "\n",
    "model=sklearn.ensemble.RandomForestClassifier(criterion='entropy', max_features='sqrt',\n",
    "                       min_samples_split=3, n_estimators=600)\n",
    "model.fit(x_train1, y_train1)\n",
    "ddd=model.predict(x_test1)\n",
    "print(classification_report(y_test1, ddd,digits=4))"
   ]
  },
  {
   "cell_type": "code",
   "execution_count": null,
   "id": "czech-colony",
   "metadata": {},
   "outputs": [],
   "source": []
  }
 ],
 "metadata": {
  "kernelspec": {
   "display_name": "Python 3",
   "language": "python",
   "name": "python3"
  },
  "language_info": {
   "codemirror_mode": {
    "name": "ipython",
    "version": 3
   },
   "file_extension": ".py",
   "mimetype": "text/x-python",
   "name": "python",
   "nbconvert_exporter": "python",
   "pygments_lexer": "ipython3",
   "version": "3.9.1"
  }
 },
 "nbformat": 4,
 "nbformat_minor": 5
}
